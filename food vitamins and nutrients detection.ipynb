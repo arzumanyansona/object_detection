{
 "cells": [
  {
   "cell_type": "code",
   "execution_count": 1,
   "id": "72a19181",
   "metadata": {},
   "outputs": [],
   "source": [
    "import ultralytics\n",
    "import cv2\n",
    "import os\n",
    "import numpy as np\n",
    "import matplotlib.pyplot as plt\n",
    "import pandas as pd"
   ]
  },
  {
   "cell_type": "code",
   "execution_count": 2,
   "id": "66f50abb",
   "metadata": {},
   "outputs": [],
   "source": [
    "model=ultralytics.YOLO(\"best.pt\")"
   ]
  },
  {
   "cell_type": "code",
   "execution_count": 3,
   "id": "5ca44d1e",
   "metadata": {},
   "outputs": [],
   "source": [
    "vitamines_file=pd.read_csv(\"food sheet.csv\")"
   ]
  },
  {
   "cell_type": "code",
   "execution_count": 4,
   "id": "924ed8ae",
   "metadata": {},
   "outputs": [],
   "source": [
    "vitamines_dict = dict(zip(vitamines_file['food'], vitamines_file['index']))\n",
    "vitamines_dict['orange']=vitamines_dict['orange ']\n",
    " "
   ]
  },
  {
   "cell_type": "code",
   "execution_count": null,
   "id": "987293d5",
   "metadata": {},
   "outputs": [],
   "source": [
    "vitamines_file"
   ]
  },
  {
   "cell_type": "code",
   "execution_count": null,
   "id": "b2c6eae9",
   "metadata": {},
   "outputs": [],
   "source": [
    "contraindications_list=vitamines_file.contraindications.to_list()\n",
    "vitamines_file"
   ]
  },
  {
   "cell_type": "code",
   "execution_count": null,
   "id": "ea2332ea",
   "metadata": {},
   "outputs": [],
   "source": [
    "path=r\"C:\\Users\\User\\Desktop\\test images\"\n",
    "output_dir=r\"C:\\Users\\User\\Desktop\\predicted_images\"\n",
    "all_images_predictions_info={}\n",
    "contraindications=\"high cholesterol\"\n",
    "\n",
    "index=0\n",
    "img_list = os.listdir(path)\n",
    "num_images_to_predict=len(img_list)\n",
    "for i in range(num_images_to_predict):\n",
    "    one_image_predictions_info={}\n",
    "    \n",
    "    image_index=img_list[i]\n",
    "    img_path = os.path.join(path, img_list[i])\n",
    "    \n",
    "    results = model.predict(img_path,save=True,conf=0.2)[0]\n",
    "    predicted_class_names=[]\n",
    "    names = model.names\n",
    "    for r in results:\n",
    "        for c in r.boxes.cls:\n",
    "            predicted_class_names.append(names[int(c)])\n",
    "    \n",
    "    boxes = results.boxes.xyxy.cpu().numpy().tolist()  \n",
    "    if len(predicted_class_names)>0:\n",
    "        info_list=[]\n",
    "        for j in range(len(predicted_class_names)):\n",
    "            class_name = predicted_class_names[j]\n",
    "            if class_name in vitamines_dict:\n",
    "                info_list.append(vitamines_file.iloc[vitamines_dict.get(predicted_class_names[j])])\n",
    "            else:\n",
    "                pass\n",
    "            \n",
    "        one_image_predictions_info[image_index]=info_list\n",
    "        \n",
    "        all_images_predictions_info.update(one_image_predictions_info)\n",
    "    \n",
    "         \n",
    "    if not boxes:\n",
    "        print(f\"No bounding boxes: {img_path}\")\n",
    "        continue\n",
    "    \n",
    "    if isinstance(boxes[0], float):  \n",
    "        boxes = [boxes]\n",
    "    \n",
    "    image = cv2.imread(img_path)\n",
    "    unique_class_names=[]\n",
    "    for i,box in enumerate(boxes):\n",
    "        if isinstance(box, float):\n",
    "            print(\"Skipping float value. No bounding box found.\")\n",
    "            continue\n",
    "        \n",
    "        xmin, ymin, xmax, ymax = box\n",
    "        cv2.rectangle(image, (int(xmin), int(ymin)), (int(xmax), int(ymax)), (255,0, 0),1)  \n",
    "        cv2.putText(image, predicted_class_names[i], (int(xmin), int(ymin) - 10), cv2.FONT_HERSHEY_SIMPLEX, 0.5, (0, 255, 0), 2)\n",
    "        \n",
    "        error_text_color=(0,0,255)   \n",
    "        for g in range(len(one_image_predictions_info)):\n",
    "            \n",
    "            if one_image_predictions_info[image_index][g][-1]==contraindications:\n",
    "                    text_color = (255, 255, 255)  \n",
    "                    text_position = (20, image.shape[0] - 20)  \n",
    "                    cv2.putText(image, f\"{contraindications}\", (int(100), int(300)),\n",
    "                                cv2.FONT_HERSHEY_SIMPLEX, 1,error_text_color, 2)\n",
    "\n",
    "        if predicted_class_names[i] not in unique_class_names:\n",
    "            unique_class_names.append(predicted_class_names[i])\n",
    "            \n",
    "    \n",
    "    \n",
    "    horizontal_line=0\n",
    "    for q in unique_class_names:\n",
    "        print(q)\n",
    "        text_position_bottom = (horizontal_line, image.shape[0] - 10) \n",
    "        cv2.putText(image, vitamines_file.loc[vitamines_dict.get(q),\"vitamins / %DV\"], \n",
    "                                                text_position_bottom, cv2.FONT_HERSHEY_SIMPLEX, 0.3, (0, 0, 255), 1)\n",
    "        horizontal_line+=100\n",
    "   \n",
    "\n",
    "\n",
    "    \n",
    "    index+=1\n",
    "    image_rgb = cv2.cvtColor(image, cv2.COLOR_BGR2RGB)\n",
    "    output_path = os.path.join(output_dir, f\"annotated_image_{index}.jpg\")\n",
    "    cv2.imwrite(output_path, image)\n",
    "\n",
    "   \n",
    "    plt.figure(figsize=(16,12),dpi=300)\n",
    "    plt.imshow(image_rgb)\n",
    "    plt.axis('off')\n",
    "    plt.show()\n",
    "    cv2.waitKey(0)\n"
   ]
  },
  {
   "cell_type": "code",
   "execution_count": 8,
   "id": "99a25296",
   "metadata": {},
   "outputs": [
    {
     "name": "stderr",
     "output_type": "stream",
     "text": [
      "\n",
      "0: 480x640 1 blueberry, 401.4ms\n",
      "Speed: 8.5ms preprocess, 401.4ms inference, 0.0ms postprocess per image at shape (1, 3, 480, 640)\n",
      "\n"
     ]
    },
    {
     "name": "stdout",
     "output_type": "stream",
     "text": [
      "0\n"
     ]
    },
    {
     "name": "stderr",
     "output_type": "stream",
     "text": [
      "0: 480x640 1 blueberry, 341.0ms\n",
      "Speed: 5.7ms preprocess, 341.0ms inference, 0.0ms postprocess per image at shape (1, 3, 480, 640)\n",
      "\n"
     ]
    },
    {
     "name": "stdout",
     "output_type": "stream",
     "text": [
      "0\n"
     ]
    },
    {
     "name": "stderr",
     "output_type": "stream",
     "text": [
      "0: 480x640 (no detections), 302.7ms\n",
      "Speed: 3.3ms preprocess, 302.7ms inference, 3.0ms postprocess per image at shape (1, 3, 480, 640)\n",
      "\n",
      "0: 480x640 1 blueberry, 299.0ms\n",
      "Speed: 12.5ms preprocess, 299.0ms inference, 15.6ms postprocess per image at shape (1, 3, 480, 640)\n",
      "\n",
      "0: 480x640 1 blueberry, 144.2ms\n",
      "Speed: 7.5ms preprocess, 144.2ms inference, 0.0ms postprocess per image at shape (1, 3, 480, 640)\n",
      "\n"
     ]
    },
    {
     "name": "stdout",
     "output_type": "stream",
     "text": [
      "0\n",
      "0\n"
     ]
    },
    {
     "name": "stderr",
     "output_type": "stream",
     "text": [
      "0: 480x640 (no detections), 129.6ms\n",
      "Speed: 10.9ms preprocess, 129.6ms inference, 0.0ms postprocess per image at shape (1, 3, 480, 640)\n",
      "\n",
      "0: 480x640 (no detections), 119.4ms\n",
      "Speed: 0.0ms preprocess, 119.4ms inference, 0.0ms postprocess per image at shape (1, 3, 480, 640)\n",
      "\n",
      "0: 480x640 (no detections), 160.8ms\n",
      "Speed: 0.0ms preprocess, 160.8ms inference, 0.0ms postprocess per image at shape (1, 3, 480, 640)\n",
      "\n",
      "0: 480x640 (no detections), 133.2ms\n",
      "Speed: 0.0ms preprocess, 133.2ms inference, 0.0ms postprocess per image at shape (1, 3, 480, 640)\n",
      "\n",
      "0: 480x640 (no detections), 109.8ms\n",
      "Speed: 0.0ms preprocess, 109.8ms inference, 0.0ms postprocess per image at shape (1, 3, 480, 640)\n",
      "\n",
      "0: 480x640 (no detections), 121.4ms\n",
      "Speed: 4.6ms preprocess, 121.4ms inference, 0.0ms postprocess per image at shape (1, 3, 480, 640)\n",
      "\n",
      "0: 480x640 (no detections), 115.7ms\n",
      "Speed: 0.0ms preprocess, 115.7ms inference, 0.0ms postprocess per image at shape (1, 3, 480, 640)\n",
      "\n",
      "0: 480x640 (no detections), 114.5ms\n",
      "Speed: 4.4ms preprocess, 114.5ms inference, 0.0ms postprocess per image at shape (1, 3, 480, 640)\n",
      "\n",
      "0: 480x640 (no detections), 143.4ms\n",
      "Speed: 0.0ms preprocess, 143.4ms inference, 0.0ms postprocess per image at shape (1, 3, 480, 640)\n",
      "\n",
      "0: 480x640 (no detections), 159.7ms\n",
      "Speed: 0.0ms preprocess, 159.7ms inference, 0.0ms postprocess per image at shape (1, 3, 480, 640)\n",
      "\n",
      "0: 480x640 (no detections), 136.0ms\n",
      "Speed: 7.2ms preprocess, 136.0ms inference, 0.0ms postprocess per image at shape (1, 3, 480, 640)\n",
      "\n",
      "0: 480x640 (no detections), 111.9ms\n",
      "Speed: 1.5ms preprocess, 111.9ms inference, 0.0ms postprocess per image at shape (1, 3, 480, 640)\n",
      "\n",
      "0: 480x640 (no detections), 129.5ms\n",
      "Speed: 2.1ms preprocess, 129.5ms inference, 0.0ms postprocess per image at shape (1, 3, 480, 640)\n",
      "\n",
      "0: 480x640 (no detections), 114.6ms\n",
      "Speed: 5.0ms preprocess, 114.6ms inference, 0.0ms postprocess per image at shape (1, 3, 480, 640)\n",
      "\n",
      "0: 480x640 (no detections), 119.5ms\n",
      "Speed: 5.2ms preprocess, 119.5ms inference, 15.6ms postprocess per image at shape (1, 3, 480, 640)\n",
      "\n",
      "0: 480x640 (no detections), 115.2ms\n",
      "Speed: 2.4ms preprocess, 115.2ms inference, 0.0ms postprocess per image at shape (1, 3, 480, 640)\n",
      "\n",
      "0: 480x640 (no detections), 134.8ms\n",
      "Speed: 0.0ms preprocess, 134.8ms inference, 0.0ms postprocess per image at shape (1, 3, 480, 640)\n",
      "\n",
      "0: 480x640 (no detections), 129.3ms\n",
      "Speed: 0.0ms preprocess, 129.3ms inference, 0.0ms postprocess per image at shape (1, 3, 480, 640)\n",
      "\n",
      "0: 480x640 (no detections), 132.2ms\n",
      "Speed: 0.0ms preprocess, 132.2ms inference, 0.0ms postprocess per image at shape (1, 3, 480, 640)\n",
      "\n",
      "0: 480x640 (no detections), 116.3ms\n",
      "Speed: 3.5ms preprocess, 116.3ms inference, 0.0ms postprocess per image at shape (1, 3, 480, 640)\n",
      "\n",
      "0: 480x640 (no detections), 109.0ms\n",
      "Speed: 0.0ms preprocess, 109.0ms inference, 0.0ms postprocess per image at shape (1, 3, 480, 640)\n",
      "\n",
      "0: 480x640 (no detections), 129.5ms\n",
      "Speed: 0.0ms preprocess, 129.5ms inference, 0.0ms postprocess per image at shape (1, 3, 480, 640)\n",
      "\n",
      "0: 480x640 (no detections), 114.7ms\n",
      "Speed: 0.0ms preprocess, 114.7ms inference, 0.0ms postprocess per image at shape (1, 3, 480, 640)\n",
      "\n",
      "0: 480x640 (no detections), 121.5ms\n",
      "Speed: 0.0ms preprocess, 121.5ms inference, 0.0ms postprocess per image at shape (1, 3, 480, 640)\n",
      "\n",
      "0: 480x640 (no detections), 111.5ms\n",
      "Speed: 2.1ms preprocess, 111.5ms inference, 0.0ms postprocess per image at shape (1, 3, 480, 640)\n",
      "\n",
      "0: 480x640 (no detections), 126.1ms\n",
      "Speed: 0.0ms preprocess, 126.1ms inference, 0.0ms postprocess per image at shape (1, 3, 480, 640)\n",
      "\n",
      "0: 480x640 (no detections), 108.2ms\n",
      "Speed: 0.0ms preprocess, 108.2ms inference, 15.6ms postprocess per image at shape (1, 3, 480, 640)\n",
      "\n",
      "0: 480x640 (no detections), 125.2ms\n",
      "Speed: 6.4ms preprocess, 125.2ms inference, 0.0ms postprocess per image at shape (1, 3, 480, 640)\n",
      "\n",
      "0: 480x640 (no detections), 113.5ms\n",
      "Speed: 4.5ms preprocess, 113.5ms inference, 0.0ms postprocess per image at shape (1, 3, 480, 640)\n",
      "\n",
      "0: 480x640 (no detections), 113.6ms\n",
      "Speed: 5.6ms preprocess, 113.6ms inference, 0.0ms postprocess per image at shape (1, 3, 480, 640)\n",
      "\n",
      "0: 480x640 (no detections), 103.7ms\n",
      "Speed: 0.0ms preprocess, 103.7ms inference, 0.0ms postprocess per image at shape (1, 3, 480, 640)\n",
      "\n",
      "0: 480x640 (no detections), 114.9ms\n",
      "Speed: 4.5ms preprocess, 114.9ms inference, 0.0ms postprocess per image at shape (1, 3, 480, 640)\n",
      "\n",
      "0: 480x640 (no detections), 127.3ms\n",
      "Speed: 0.0ms preprocess, 127.3ms inference, 0.0ms postprocess per image at shape (1, 3, 480, 640)\n",
      "\n",
      "0: 480x640 (no detections), 111.2ms\n",
      "Speed: 0.0ms preprocess, 111.2ms inference, 0.0ms postprocess per image at shape (1, 3, 480, 640)\n",
      "\n",
      "0: 480x640 (no detections), 116.0ms\n",
      "Speed: 1.7ms preprocess, 116.0ms inference, 0.0ms postprocess per image at shape (1, 3, 480, 640)\n",
      "\n",
      "0: 480x640 (no detections), 124.1ms\n",
      "Speed: 5.6ms preprocess, 124.1ms inference, 0.0ms postprocess per image at shape (1, 3, 480, 640)\n",
      "\n",
      "0: 480x640 (no detections), 110.5ms\n",
      "Speed: 0.0ms preprocess, 110.5ms inference, 0.0ms postprocess per image at shape (1, 3, 480, 640)\n",
      "\n",
      "0: 480x640 (no detections), 126.3ms\n",
      "Speed: 4.0ms preprocess, 126.3ms inference, 1.1ms postprocess per image at shape (1, 3, 480, 640)\n",
      "\n",
      "0: 480x640 (no detections), 118.7ms\n",
      "Speed: 2.1ms preprocess, 118.7ms inference, 0.5ms postprocess per image at shape (1, 3, 480, 640)\n",
      "\n",
      "0: 480x640 (no detections), 116.0ms\n",
      "Speed: 0.0ms preprocess, 116.0ms inference, 0.0ms postprocess per image at shape (1, 3, 480, 640)\n",
      "\n",
      "0: 480x640 1 lemon, 101.4ms\n",
      "Speed: 0.0ms preprocess, 101.4ms inference, 0.0ms postprocess per image at shape (1, 3, 480, 640)\n",
      "\n",
      "0: 480x640 (no detections), 113.5ms\n",
      "Speed: 0.0ms preprocess, 113.5ms inference, 0.0ms postprocess per image at shape (1, 3, 480, 640)\n",
      "\n"
     ]
    },
    {
     "name": "stdout",
     "output_type": "stream",
     "text": [
      "0\n"
     ]
    },
    {
     "name": "stderr",
     "output_type": "stream",
     "text": [
      "0: 480x640 1 lemon, 109.3ms\n",
      "Speed: 0.0ms preprocess, 109.3ms inference, 0.0ms postprocess per image at shape (1, 3, 480, 640)\n",
      "\n",
      "0: 480x640 (no detections), 121.2ms\n",
      "Speed: 2.0ms preprocess, 121.2ms inference, 0.0ms postprocess per image at shape (1, 3, 480, 640)\n",
      "\n"
     ]
    },
    {
     "name": "stdout",
     "output_type": "stream",
     "text": [
      "0\n"
     ]
    },
    {
     "name": "stderr",
     "output_type": "stream",
     "text": [
      "0: 480x640 1 lemon, 112.8ms\n",
      "Speed: 3.1ms preprocess, 112.8ms inference, 0.0ms postprocess per image at shape (1, 3, 480, 640)\n",
      "\n",
      "0: 480x640 1 lemon, 103.4ms\n",
      "Speed: 7.1ms preprocess, 103.4ms inference, 0.0ms postprocess per image at shape (1, 3, 480, 640)\n",
      "\n"
     ]
    },
    {
     "name": "stdout",
     "output_type": "stream",
     "text": [
      "0\n",
      "0\n"
     ]
    },
    {
     "name": "stderr",
     "output_type": "stream",
     "text": [
      "0: 480x640 (no detections), 119.9ms\n",
      "Speed: 0.0ms preprocess, 119.9ms inference, 0.0ms postprocess per image at shape (1, 3, 480, 640)\n",
      "\n",
      "0: 480x640 (no detections), 111.3ms\n",
      "Speed: 0.0ms preprocess, 111.3ms inference, 0.0ms postprocess per image at shape (1, 3, 480, 640)\n",
      "\n",
      "0: 480x640 (no detections), 116.7ms\n",
      "Speed: 3.5ms preprocess, 116.7ms inference, 0.0ms postprocess per image at shape (1, 3, 480, 640)\n",
      "\n",
      "0: 480x640 (no detections), 98.6ms\n",
      "Speed: 0.0ms preprocess, 98.6ms inference, 0.0ms postprocess per image at shape (1, 3, 480, 640)\n",
      "\n",
      "0: 480x640 (no detections), 102.4ms\n",
      "Speed: 6.0ms preprocess, 102.4ms inference, 0.0ms postprocess per image at shape (1, 3, 480, 640)\n",
      "\n",
      "0: 480x640 (no detections), 129.4ms\n",
      "Speed: 4.1ms preprocess, 129.4ms inference, 0.0ms postprocess per image at shape (1, 3, 480, 640)\n",
      "\n",
      "0: 480x640 (no detections), 123.4ms\n",
      "Speed: 2.5ms preprocess, 123.4ms inference, 0.0ms postprocess per image at shape (1, 3, 480, 640)\n",
      "\n",
      "0: 480x640 (no detections), 106.2ms\n",
      "Speed: 1.0ms preprocess, 106.2ms inference, 0.0ms postprocess per image at shape (1, 3, 480, 640)\n",
      "\n",
      "0: 480x640 (no detections), 118.0ms\n",
      "Speed: 0.6ms preprocess, 118.0ms inference, 0.0ms postprocess per image at shape (1, 3, 480, 640)\n",
      "\n",
      "0: 480x640 (no detections), 112.8ms\n",
      "Speed: 0.0ms preprocess, 112.8ms inference, 0.0ms postprocess per image at shape (1, 3, 480, 640)\n",
      "\n",
      "0: 480x640 (no detections), 121.8ms\n",
      "Speed: 0.0ms preprocess, 121.8ms inference, 0.0ms postprocess per image at shape (1, 3, 480, 640)\n",
      "\n",
      "0: 480x640 (no detections), 112.5ms\n",
      "Speed: 5.3ms preprocess, 112.5ms inference, 0.0ms postprocess per image at shape (1, 3, 480, 640)\n",
      "\n",
      "0: 480x640 (no detections), 102.8ms\n",
      "Speed: 0.0ms preprocess, 102.8ms inference, 0.0ms postprocess per image at shape (1, 3, 480, 640)\n",
      "\n",
      "0: 480x640 (no detections), 113.7ms\n",
      "Speed: 0.0ms preprocess, 113.7ms inference, 0.0ms postprocess per image at shape (1, 3, 480, 640)\n",
      "\n",
      "0: 480x640 (no detections), 113.0ms\n",
      "Speed: 3.5ms preprocess, 113.0ms inference, 0.0ms postprocess per image at shape (1, 3, 480, 640)\n",
      "\n",
      "0: 480x640 (no detections), 103.7ms\n",
      "Speed: 0.0ms preprocess, 103.7ms inference, 0.0ms postprocess per image at shape (1, 3, 480, 640)\n",
      "\n",
      "0: 480x640 1 fries, 1 banana, 103.4ms\n",
      "Speed: 0.0ms preprocess, 103.4ms inference, 0.0ms postprocess per image at shape (1, 3, 480, 640)\n",
      "\n",
      "0: 480x640 (no detections), 129.5ms\n",
      "Speed: 5.3ms preprocess, 129.5ms inference, 0.0ms postprocess per image at shape (1, 3, 480, 640)\n",
      "\n"
     ]
    },
    {
     "name": "stdout",
     "output_type": "stream",
     "text": [
      "0\n",
      "1\n",
      "0\n",
      "1\n"
     ]
    },
    {
     "name": "stderr",
     "output_type": "stream",
     "text": [
      "0: 480x640 1 lime, 115.2ms\n",
      "Speed: 4.4ms preprocess, 115.2ms inference, 0.0ms postprocess per image at shape (1, 3, 480, 640)\n",
      "\n",
      "0: 480x640 1 lime, 104.8ms\n",
      "Speed: 3.1ms preprocess, 104.8ms inference, 0.0ms postprocess per image at shape (1, 3, 480, 640)\n",
      "\n"
     ]
    },
    {
     "name": "stdout",
     "output_type": "stream",
     "text": [
      "0\n",
      "0\n"
     ]
    },
    {
     "name": "stderr",
     "output_type": "stream",
     "text": [
      "0: 480x640 1 lime, 113.8ms\n",
      "Speed: 6.8ms preprocess, 113.8ms inference, 0.0ms postprocess per image at shape (1, 3, 480, 640)\n",
      "\n",
      "0: 480x640 (no detections), 113.4ms\n",
      "Speed: 0.7ms preprocess, 113.4ms inference, 0.0ms postprocess per image at shape (1, 3, 480, 640)\n",
      "\n"
     ]
    },
    {
     "name": "stdout",
     "output_type": "stream",
     "text": [
      "0\n"
     ]
    },
    {
     "name": "stderr",
     "output_type": "stream",
     "text": [
      "0: 480x640 1 grilled chicken, 118.5ms\n",
      "Speed: 3.0ms preprocess, 118.5ms inference, 0.0ms postprocess per image at shape (1, 3, 480, 640)\n",
      "\n",
      "0: 480x640 2 limes, 110.2ms\n",
      "Speed: 0.5ms preprocess, 110.2ms inference, 0.0ms postprocess per image at shape (1, 3, 480, 640)\n",
      "\n"
     ]
    },
    {
     "name": "stdout",
     "output_type": "stream",
     "text": [
      "0\n",
      "0\n",
      "1\n",
      "0\n",
      "1\n"
     ]
    },
    {
     "name": "stderr",
     "output_type": "stream",
     "text": [
      "0: 480x640 3 limes, 121.6ms\n",
      "Speed: 0.0ms preprocess, 121.6ms inference, 0.0ms postprocess per image at shape (1, 3, 480, 640)\n",
      "\n",
      "0: 480x640 (no detections), 113.0ms\n",
      "Speed: 7.0ms preprocess, 113.0ms inference, 0.0ms postprocess per image at shape (1, 3, 480, 640)\n",
      "\n"
     ]
    },
    {
     "name": "stdout",
     "output_type": "stream",
     "text": [
      "0\n",
      "1\n",
      "2\n",
      "0\n",
      "1\n",
      "2\n",
      "0\n",
      "1\n",
      "2\n"
     ]
    },
    {
     "name": "stderr",
     "output_type": "stream",
     "text": [
      "0: 480x640 1 lime, 115.6ms\n",
      "Speed: 3.9ms preprocess, 115.6ms inference, 1.0ms postprocess per image at shape (1, 3, 480, 640)\n",
      "\n",
      "0: 480x640 2 limes, 128.1ms\n",
      "Speed: 1.5ms preprocess, 128.1ms inference, 1.2ms postprocess per image at shape (1, 3, 480, 640)\n",
      "\n"
     ]
    },
    {
     "name": "stdout",
     "output_type": "stream",
     "text": [
      "0\n",
      "0\n",
      "1\n",
      "0\n",
      "1\n"
     ]
    },
    {
     "name": "stderr",
     "output_type": "stream",
     "text": [
      "0: 480x640 1 grilled chicken, 2 limes, 110.6ms\n",
      "Speed: 5.2ms preprocess, 110.6ms inference, 0.0ms postprocess per image at shape (1, 3, 480, 640)\n",
      "\n",
      "0: 480x640 2 limes, 125.9ms\n",
      "Speed: 1.4ms preprocess, 125.9ms inference, 0.0ms postprocess per image at shape (1, 3, 480, 640)\n",
      "\n"
     ]
    },
    {
     "name": "stdout",
     "output_type": "stream",
     "text": [
      "0\n",
      "1\n",
      "2\n",
      "0\n",
      "1\n",
      "2\n",
      "0\n",
      "1\n",
      "2\n",
      "0\n",
      "1\n",
      "0\n",
      "1\n"
     ]
    },
    {
     "name": "stderr",
     "output_type": "stream",
     "text": [
      "0: 480x640 1 grilled chicken, 1 lime, 118.9ms\n",
      "Speed: 0.0ms preprocess, 118.9ms inference, 0.0ms postprocess per image at shape (1, 3, 480, 640)\n",
      "\n",
      "0: 480x640 (no detections), 159.3ms\n",
      "Speed: 0.0ms preprocess, 159.3ms inference, 0.0ms postprocess per image at shape (1, 3, 480, 640)\n",
      "\n"
     ]
    },
    {
     "name": "stdout",
     "output_type": "stream",
     "text": [
      "0\n",
      "1\n",
      "0\n",
      "1\n"
     ]
    },
    {
     "name": "stderr",
     "output_type": "stream",
     "text": [
      "0: 480x640 (no detections), 118.2ms\n",
      "Speed: 0.0ms preprocess, 118.2ms inference, 0.0ms postprocess per image at shape (1, 3, 480, 640)\n",
      "\n",
      "0: 480x640 (no detections), 102.2ms\n",
      "Speed: 4.7ms preprocess, 102.2ms inference, 0.0ms postprocess per image at shape (1, 3, 480, 640)\n",
      "\n",
      "0: 480x640 1 fish, 1 egg, 115.0ms\n",
      "Speed: 5.0ms preprocess, 115.0ms inference, 0.0ms postprocess per image at shape (1, 3, 480, 640)\n",
      "\n",
      "0: 480x640 1 fish, 104.3ms\n",
      "Speed: 1.7ms preprocess, 104.3ms inference, 0.0ms postprocess per image at shape (1, 3, 480, 640)\n",
      "\n"
     ]
    },
    {
     "name": "stdout",
     "output_type": "stream",
     "text": [
      "0\n",
      "1\n",
      "0\n",
      "1\n",
      "0\n"
     ]
    },
    {
     "name": "stderr",
     "output_type": "stream",
     "text": [
      "0: 480x640 (no detections), 107.8ms\n",
      "Speed: 2.6ms preprocess, 107.8ms inference, 0.0ms postprocess per image at shape (1, 3, 480, 640)\n",
      "\n",
      "0: 480x640 (no detections), 124.8ms\n",
      "Speed: 0.0ms preprocess, 124.8ms inference, 0.0ms postprocess per image at shape (1, 3, 480, 640)\n",
      "\n",
      "0: 480x640 1 fish, 104.2ms\n",
      "Speed: 4.3ms preprocess, 104.2ms inference, 0.0ms postprocess per image at shape (1, 3, 480, 640)\n",
      "\n",
      "0: 480x640 1 lime, 130.6ms\n",
      "Speed: 0.0ms preprocess, 130.6ms inference, 0.0ms postprocess per image at shape (1, 3, 480, 640)\n",
      "\n"
     ]
    },
    {
     "name": "stdout",
     "output_type": "stream",
     "text": [
      "0\n",
      "0\n"
     ]
    },
    {
     "name": "stderr",
     "output_type": "stream",
     "text": [
      "0: 480x640 2 limes, 153.5ms\n",
      "Speed: 3.2ms preprocess, 153.5ms inference, 0.0ms postprocess per image at shape (1, 3, 480, 640)\n",
      "\n",
      "0: 480x640 (no detections), 113.2ms\n",
      "Speed: 0.0ms preprocess, 113.2ms inference, 3.4ms postprocess per image at shape (1, 3, 480, 640)\n",
      "\n"
     ]
    },
    {
     "name": "stdout",
     "output_type": "stream",
     "text": [
      "0\n",
      "1\n",
      "0\n",
      "1\n"
     ]
    },
    {
     "name": "stderr",
     "output_type": "stream",
     "text": [
      "0: 480x640 2 limes, 124.1ms\n",
      "Speed: 2.1ms preprocess, 124.1ms inference, 0.0ms postprocess per image at shape (1, 3, 480, 640)\n",
      "\n",
      "0: 480x640 1 fish, 114.7ms\n",
      "Speed: 0.0ms preprocess, 114.7ms inference, 0.0ms postprocess per image at shape (1, 3, 480, 640)\n",
      "\n"
     ]
    },
    {
     "name": "stdout",
     "output_type": "stream",
     "text": [
      "0\n",
      "1\n",
      "0\n",
      "1\n",
      "0\n"
     ]
    },
    {
     "name": "stderr",
     "output_type": "stream",
     "text": [
      "0: 480x640 (no detections), 121.3ms\n",
      "Speed: 5.9ms preprocess, 121.3ms inference, 0.0ms postprocess per image at shape (1, 3, 480, 640)\n",
      "\n",
      "0: 480x640 3 limes, 116.3ms\n",
      "Speed: 0.0ms preprocess, 116.3ms inference, 0.0ms postprocess per image at shape (1, 3, 480, 640)\n",
      "\n",
      "0: 480x640 (no detections), 134.2ms\n",
      "Speed: 0.0ms preprocess, 134.2ms inference, 0.0ms postprocess per image at shape (1, 3, 480, 640)\n",
      "\n"
     ]
    },
    {
     "name": "stdout",
     "output_type": "stream",
     "text": [
      "0\n",
      "1\n",
      "2\n",
      "0\n",
      "1\n",
      "2\n",
      "0\n",
      "1\n",
      "2\n"
     ]
    },
    {
     "name": "stderr",
     "output_type": "stream",
     "text": [
      "0: 480x640 2 limes, 124.2ms\n",
      "Speed: 3.8ms preprocess, 124.2ms inference, 0.0ms postprocess per image at shape (1, 3, 480, 640)\n",
      "\n",
      "0: 480x640 1 lemon, 99.0ms\n",
      "Speed: 4.8ms preprocess, 99.0ms inference, 0.0ms postprocess per image at shape (1, 3, 480, 640)\n",
      "\n"
     ]
    },
    {
     "name": "stdout",
     "output_type": "stream",
     "text": [
      "0\n",
      "1\n",
      "0\n",
      "1\n",
      "0\n"
     ]
    },
    {
     "name": "stderr",
     "output_type": "stream",
     "text": [
      "0: 480x640 (no detections), 132.1ms\n",
      "Speed: 0.0ms preprocess, 132.1ms inference, 0.0ms postprocess per image at shape (1, 3, 480, 640)\n",
      "\n",
      "0: 480x640 (no detections), 115.5ms\n",
      "Speed: 3.0ms preprocess, 115.5ms inference, 0.0ms postprocess per image at shape (1, 3, 480, 640)\n",
      "\n",
      "0: 480x640 (no detections), 96.0ms\n",
      "Speed: 4.5ms preprocess, 96.0ms inference, 0.0ms postprocess per image at shape (1, 3, 480, 640)\n",
      "\n",
      "0: 480x640 (no detections), 118.7ms\n",
      "Speed: 1.3ms preprocess, 118.7ms inference, 0.0ms postprocess per image at shape (1, 3, 480, 640)\n",
      "\n",
      "0: 480x640 (no detections), 111.4ms\n",
      "Speed: 0.5ms preprocess, 111.4ms inference, 0.0ms postprocess per image at shape (1, 3, 480, 640)\n",
      "\n",
      "0: 480x640 (no detections), 104.7ms\n",
      "Speed: 0.0ms preprocess, 104.7ms inference, 0.0ms postprocess per image at shape (1, 3, 480, 640)\n",
      "\n",
      "0: 480x640 (no detections), 99.0ms\n",
      "Speed: 4.5ms preprocess, 99.0ms inference, 0.0ms postprocess per image at shape (1, 3, 480, 640)\n",
      "\n",
      "0: 480x640 (no detections), 129.8ms\n",
      "Speed: 0.0ms preprocess, 129.8ms inference, 0.0ms postprocess per image at shape (1, 3, 480, 640)\n",
      "\n",
      "0: 480x640 (no detections), 123.5ms\n",
      "Speed: 0.0ms preprocess, 123.5ms inference, 0.0ms postprocess per image at shape (1, 3, 480, 640)\n",
      "\n",
      "0: 480x640 1 fries, 130.8ms\n",
      "Speed: 0.0ms preprocess, 130.8ms inference, 0.0ms postprocess per image at shape (1, 3, 480, 640)\n",
      "\n",
      "0: 480x640 (no detections), 147.8ms\n",
      "Speed: 0.0ms preprocess, 147.8ms inference, 0.0ms postprocess per image at shape (1, 3, 480, 640)\n",
      "\n"
     ]
    },
    {
     "name": "stdout",
     "output_type": "stream",
     "text": [
      "0\n"
     ]
    },
    {
     "name": "stderr",
     "output_type": "stream",
     "text": [
      "0: 480x640 (no detections), 105.4ms\n",
      "Speed: 5.0ms preprocess, 105.4ms inference, 0.0ms postprocess per image at shape (1, 3, 480, 640)\n",
      "\n",
      "0: 480x640 (no detections), 114.6ms\n",
      "Speed: 5.2ms preprocess, 114.6ms inference, 0.0ms postprocess per image at shape (1, 3, 480, 640)\n",
      "\n",
      "0: 480x640 1 blueberry, 122.4ms\n",
      "Speed: 0.6ms preprocess, 122.4ms inference, 0.0ms postprocess per image at shape (1, 3, 480, 640)\n",
      "\n",
      "0: 480x640 (no detections), 137.3ms\n",
      "Speed: 1.7ms preprocess, 137.3ms inference, 12.5ms postprocess per image at shape (1, 3, 480, 640)\n",
      "\n"
     ]
    },
    {
     "name": "stdout",
     "output_type": "stream",
     "text": [
      "0\n"
     ]
    },
    {
     "name": "stderr",
     "output_type": "stream",
     "text": [
      "0: 480x640 (no detections), 119.2ms\n",
      "Speed: 4.6ms preprocess, 119.2ms inference, 0.0ms postprocess per image at shape (1, 3, 480, 640)\n",
      "\n",
      "0: 480x640 (no detections), 128.8ms\n",
      "Speed: 0.0ms preprocess, 128.8ms inference, 0.0ms postprocess per image at shape (1, 3, 480, 640)\n",
      "\n",
      "0: 480x640 (no detections), 122.1ms\n",
      "Speed: 0.0ms preprocess, 122.1ms inference, 1.0ms postprocess per image at shape (1, 3, 480, 640)\n",
      "\n",
      "0: 480x640 (no detections), 119.6ms\n",
      "Speed: 0.0ms preprocess, 119.6ms inference, 0.0ms postprocess per image at shape (1, 3, 480, 640)\n",
      "\n",
      "0: 480x640 (no detections), 134.0ms\n",
      "Speed: 2.9ms preprocess, 134.0ms inference, 4.4ms postprocess per image at shape (1, 3, 480, 640)\n",
      "\n",
      "0: 480x640 (no detections), 113.5ms\n",
      "Speed: 5.1ms preprocess, 113.5ms inference, 0.0ms postprocess per image at shape (1, 3, 480, 640)\n",
      "\n",
      "0: 480x640 (no detections), 104.6ms\n",
      "Speed: 4.9ms preprocess, 104.6ms inference, 0.0ms postprocess per image at shape (1, 3, 480, 640)\n",
      "\n",
      "0: 480x640 (no detections), 120.3ms\n",
      "Speed: 4.8ms preprocess, 120.3ms inference, 0.0ms postprocess per image at shape (1, 3, 480, 640)\n",
      "\n",
      "0: 480x640 1 fries, 110.4ms\n",
      "Speed: 6.2ms preprocess, 110.4ms inference, 0.0ms postprocess per image at shape (1, 3, 480, 640)\n",
      "\n",
      "0: 480x640 (no detections), 118.3ms\n",
      "Speed: 0.0ms preprocess, 118.3ms inference, 0.0ms postprocess per image at shape (1, 3, 480, 640)\n",
      "\n"
     ]
    },
    {
     "name": "stdout",
     "output_type": "stream",
     "text": [
      "0\n"
     ]
    },
    {
     "name": "stderr",
     "output_type": "stream",
     "text": [
      "0: 480x640 (no detections), 129.0ms\n",
      "Speed: 5.7ms preprocess, 129.0ms inference, 0.0ms postprocess per image at shape (1, 3, 480, 640)\n",
      "\n",
      "0: 480x640 1 fries, 102.6ms\n",
      "Speed: 0.0ms preprocess, 102.6ms inference, 0.0ms postprocess per image at shape (1, 3, 480, 640)\n",
      "\n",
      "0: 480x640 (no detections), 109.8ms\n",
      "Speed: 0.0ms preprocess, 109.8ms inference, 0.0ms postprocess per image at shape (1, 3, 480, 640)\n",
      "\n"
     ]
    },
    {
     "name": "stdout",
     "output_type": "stream",
     "text": [
      "0\n"
     ]
    },
    {
     "name": "stderr",
     "output_type": "stream",
     "text": [
      "0: 480x640 1 fries, 120.0ms\n",
      "Speed: 2.9ms preprocess, 120.0ms inference, 0.0ms postprocess per image at shape (1, 3, 480, 640)\n",
      "\n",
      "0: 480x640 (no detections), 116.1ms\n",
      "Speed: 0.0ms preprocess, 116.1ms inference, 0.0ms postprocess per image at shape (1, 3, 480, 640)\n",
      "\n"
     ]
    },
    {
     "name": "stdout",
     "output_type": "stream",
     "text": [
      "0\n"
     ]
    },
    {
     "name": "stderr",
     "output_type": "stream",
     "text": [
      "0: 480x640 (no detections), 106.9ms\n",
      "Speed: 0.0ms preprocess, 106.9ms inference, 15.6ms postprocess per image at shape (1, 3, 480, 640)\n",
      "\n",
      "0: 480x640 1 fries, 116.8ms\n",
      "Speed: 2.9ms preprocess, 116.8ms inference, 0.0ms postprocess per image at shape (1, 3, 480, 640)\n",
      "\n",
      "0: 480x640 1 fries, 116.5ms\n",
      "Speed: 0.0ms preprocess, 116.5ms inference, 0.0ms postprocess per image at shape (1, 3, 480, 640)\n",
      "\n"
     ]
    },
    {
     "name": "stdout",
     "output_type": "stream",
     "text": [
      "0\n",
      "0\n"
     ]
    },
    {
     "name": "stderr",
     "output_type": "stream",
     "text": [
      "0: 480x640 (no detections), 129.0ms\n",
      "Speed: 0.0ms preprocess, 129.0ms inference, 0.0ms postprocess per image at shape (1, 3, 480, 640)\n",
      "\n",
      "0: 480x640 (no detections), 98.8ms\n",
      "Speed: 4.8ms preprocess, 98.8ms inference, 15.6ms postprocess per image at shape (1, 3, 480, 640)\n",
      "\n",
      "0: 480x640 (no detections), 118.4ms\n",
      "Speed: 4.5ms preprocess, 118.4ms inference, 0.0ms postprocess per image at shape (1, 3, 480, 640)\n",
      "\n",
      "0: 480x640 (no detections), 144.9ms\n",
      "Speed: 0.0ms preprocess, 144.9ms inference, 0.0ms postprocess per image at shape (1, 3, 480, 640)\n",
      "\n",
      "0: 480x640 (no detections), 156.0ms\n",
      "Speed: 0.0ms preprocess, 156.0ms inference, 0.0ms postprocess per image at shape (1, 3, 480, 640)\n",
      "\n",
      "0: 480x640 (no detections), 135.1ms\n",
      "Speed: 0.0ms preprocess, 135.1ms inference, 0.0ms postprocess per image at shape (1, 3, 480, 640)\n",
      "\n",
      "0: 480x640 (no detections), 118.7ms\n",
      "Speed: 0.5ms preprocess, 118.7ms inference, 0.0ms postprocess per image at shape (1, 3, 480, 640)\n",
      "\n",
      "0: 480x640 (no detections), 136.0ms\n",
      "Speed: 5.4ms preprocess, 136.0ms inference, 0.0ms postprocess per image at shape (1, 3, 480, 640)\n",
      "\n",
      "0: 480x640 (no detections), 115.1ms\n",
      "Speed: 0.0ms preprocess, 115.1ms inference, 0.0ms postprocess per image at shape (1, 3, 480, 640)\n",
      "\n",
      "0: 480x640 1 steak, 116.2ms\n",
      "Speed: 0.0ms preprocess, 116.2ms inference, 3.6ms postprocess per image at shape (1, 3, 480, 640)\n"
     ]
    },
    {
     "name": "stdout",
     "output_type": "stream",
     "text": [
      "0\n"
     ]
    },
    {
     "name": "stderr",
     "output_type": "stream",
     "text": [
      "\n",
      "0: 480x640 (no detections), 168.6ms\n",
      "Speed: 0.0ms preprocess, 168.6ms inference, 0.0ms postprocess per image at shape (1, 3, 480, 640)\n"
     ]
    }
   ],
   "source": [
    "contraindications = \"choresterol\"\n",
    "all_images_predictions_info = {}\n",
    "mobile_camera_url = \"http://192.168.8.219:4747/video\"\n",
    "\n",
    "cap = cv2.VideoCapture(mobile_camera_url)  \n",
    "capture = 0\n",
    "\n",
    "while True:\n",
    "    ret, frame = cap.read()\n",
    "    if not ret:\n",
    "        break\n",
    "\n",
    "    capture += 1\n",
    "    results = model.predict(frame, conf=0.05)[0]\n",
    "    predicted_class_names = []\n",
    "    names = model.names\n",
    "    one_image_predictions_info = {}\n",
    "    \n",
    "    for r in results:\n",
    "        for c in r.boxes.cls:\n",
    "            predicted_class_names.append(names[int(c)])\n",
    "    \n",
    "    boxes = results.boxes.xyxy.cpu().numpy().tolist()  \n",
    "    \n",
    "    if len(predicted_class_names) > 0:\n",
    "        info_list = []\n",
    "        \n",
    "        for j in range(len(predicted_class_names)):\n",
    "            class_name = predicted_class_names[j]\n",
    "            if class_name in vitamines_dict:\n",
    "                info_list.append(vitamines_file.iloc[vitamines_dict.get(predicted_class_names[j])])\n",
    "            else:\n",
    "                pass\n",
    "            \n",
    "        one_image_predictions_info[f\"VideoCapture {capture}\"] = info_list\n",
    "        all_images_predictions_info.update(one_image_predictions_info)\n",
    "    \n",
    "    image = frame\n",
    "    unique_class_names = []\n",
    "    \n",
    "    for i, box in enumerate(boxes):\n",
    "        xmin, ymin, xmax, ymax = box\n",
    "        cv2.rectangle(image, (int(xmin), int(ymin)), (int(xmax), int(ymax)), (255, 0, 0), 1)\n",
    "        cv2.putText(image, predicted_class_names[i], (int(xmin), int(ymin) - 10), cv2.FONT_HERSHEY_SIMPLEX, 0.5, (0, 255, 0), 2)\n",
    "        \n",
    "        error_text_color = (0, 0, 255)\n",
    "        for g in range(len(boxes)):\n",
    "            print(g)\n",
    "            if one_image_predictions_info[f\"VideoCapture {capture}\"][g][-1] == contraindications:\n",
    "                text_color = (255, 255, 255)\n",
    "                text_position = (0, image.shape[0] - 20)\n",
    "                cv2.putText(image, f\"{contraindications}\", (int(100), int(300)),\n",
    "                            cv2.FONT_HERSHEY_SIMPLEX, 1, error_text_color, 2)\n",
    "                \n",
    "        if predicted_class_names[i] not in unique_class_names:\n",
    "            unique_class_names.append(predicted_class_names[i])\n",
    "            \n",
    "    horizontal_line = 0\n",
    "    \n",
    "    for q in unique_class_names:\n",
    "        text_position_bottom = (horizontal_line, image.shape[0] - 10)\n",
    "        cv2.putText(image, vitamines_file.loc[vitamines_dict.get(q), \"vitamins / %DV\"], \n",
    "                    text_position_bottom, cv2.FONT_HERSHEY_SIMPLEX, 0.5, (0, 0, 255), 1)\n",
    "        horizontal_line += 250    \n",
    "    \n",
    "    cv2.imshow(\"Object Detection\", frame)\n",
    "    if cv2.waitKey(1) & 0xFF == ord('q'):\n",
    "        break\n",
    "\n",
    "cap.release()\n",
    "cv2.destroyAllWindows()\n"
   ]
  },
  {
   "cell_type": "code",
   "execution_count": null,
   "id": "01d91a3d",
   "metadata": {},
   "outputs": [],
   "source": [
    "all_images_predictions_info"
   ]
  },
  {
   "cell_type": "code",
   "execution_count": null,
   "id": "3f320cd6",
   "metadata": {},
   "outputs": [],
   "source": []
  }
 ],
 "metadata": {
  "kernelspec": {
   "display_name": "Python 3 (ipykernel)",
   "language": "python",
   "name": "python3"
  },
  "language_info": {
   "codemirror_mode": {
    "name": "ipython",
    "version": 3
   },
   "file_extension": ".py",
   "mimetype": "text/x-python",
   "name": "python",
   "nbconvert_exporter": "python",
   "pygments_lexer": "ipython3",
   "version": "3.9.7"
  }
 },
 "nbformat": 4,
 "nbformat_minor": 5
}
